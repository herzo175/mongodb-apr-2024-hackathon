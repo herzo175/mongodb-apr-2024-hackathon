{
 "cells": [
  {
   "cell_type": "code",
   "execution_count": 2,
   "metadata": {},
   "outputs": [],
   "source": [
    "import openai\n",
    "import os"
   ]
  },
  {
   "cell_type": "code",
   "execution_count": 3,
   "metadata": {},
   "outputs": [],
   "source": [
    "client = openai.Client(api_key=os.environ[\"openai_api_key\"])"
   ]
  },
  {
   "cell_type": "code",
   "execution_count": 4,
   "metadata": {},
   "outputs": [
    {
     "name": "stdout",
     "output_type": "stream",
     "text": [
      "1\n",
      "00:00:00,080 --> 00:00:01,920\n",
      "this stage for two-nil\n",
      "\n",
      "2\n",
      "00:00:01,920 --> 00:00:05,600\n",
      "they've taken their chance and liverpool\n",
      "\n",
      "3\n",
      "00:00:05,600 --> 00:00:06,879\n",
      "getting the better of just again they\n",
      "\n",
      "4\n",
      "00:00:06,879 --> 00:00:08,000\n",
      "made a\n",
      "\n",
      "5\n",
      "00:00:08,000 --> 00:00:09,679\n",
      "number of good saves in the second\n",
      "\n",
      "6\n",
      "00:00:09,679 --> 00:00:11,280\n",
      "period\n",
      "\n",
      "7\n",
      "00:00:11,280 --> 00:00:12,320\n",
      "messi\n",
      "\n",
      "8\n",
      "00:00:12,320 --> 00:00:14,480\n",
      "oh my goodness\n",
      "\n",
      "9\n",
      "00:00:14,480 --> 00:00:17,600\n",
      "oh my goodness\n",
      "\n",
      "10\n",
      "00:00:17,600 --> 00:00:20,720\n",
      "just when you think he's done everything\n",
      "\n",
      "11\n",
      "00:00:20,720 --> 00:00:22,560\n",
      "he comes up with something even more\n",
      "\n",
      "12\n",
      "00:00:22,560 --> 00:00:25,359\n",
      "special to catch allison out\n",
      "\n",
      "13\n",
      "00:00:25,359 --> 00:00:29,400\n",
      "and to make it three nil\n",
      "\n",
      "14\n",
      "00:00:30,480 --> 00:00:32,800\n",
      "well to beat i'll listen from there i've\n",
      "\n",
      "15\n",
      "00:00:32,800 --> 00:00:35,360\n",
      "got to say i mean he smiles it takes\n",
      "\n",
      "16\n",
      "00:00:35,360 --> 00:00:36,640\n",
      "some doing\n",
      "\n",
      "17\n",
      "00:00:36,640 --> 00:00:41,600\n",
      "and perhaps only that fella could do it\n",
      "\n",
      "18\n",
      "00:00:42,559 --> 00:00:44,640\n",
      "i mean if you wanted to go and place it\n",
      "\n",
      "19\n",
      "00:00:44,640 --> 00:00:47,360\n",
      "in the corner i don't think you could do\n",
      "\n",
      "20\n",
      "00:00:47,360 --> 00:00:49,120\n",
      "much better job\n",
      "\n",
      "21\n",
      "00:00:49,120 --> 00:00:54,960\n",
      "than he did oh that was he 25 27 yards\n",
      "\n",
      "\n"
     ]
    }
   ],
   "source": [
    "# Read srt file and return a string\n",
    "def read_srt(file_path):\n",
    "    with open(file_path, 'r') as file:\n",
    "        return file.read()\n",
    "\n",
    "messi = read_srt(\"messi.srt\")\n",
    "print(messi)"
   ]
  },
  {
   "cell_type": "code",
   "execution_count": 13,
   "metadata": {},
   "outputs": [],
   "source": [
    "completion = client.chat.completions.create(\n",
    "  model=\"gpt-3.5-turbo\",\n",
    "  messages=[\n",
    "    {\"role\": \"system\", \"content\": \"You are a helpful video transcriber. You will be given the subtitles of a video and you need to convert it into text. Don't make things up. Just write what you hear. The user will provide you with the subtitles. Generate a summary of what is being said in the subtitles. The summary should not acknowledge the subtitles. Make sure to write in your own words and understand the context and meaning of the subtitles.\"},\n",
    "    {\"role\": \"user\", \"content\": messi}\n",
    "  ]\n",
    ")"
   ]
  },
  {
   "cell_type": "code",
   "execution_count": 14,
   "metadata": {},
   "outputs": [
    {
     "name": "stdout",
     "output_type": "stream",
     "text": [
      "The speaker describes a football match where one team scores three goals. The commentator is impressed by a special goal from Messi that catches the goalkeeper off guard. The commentator emphasizes how difficult it was to beat the goalkeeper from that distance and praises Messi's skill in scoring the goal.\n"
     ]
    }
   ],
   "source": [
    "print(completion.choices[0].message.content)"
   ]
  },
  {
   "cell_type": "code",
   "execution_count": null,
   "metadata": {},
   "outputs": [],
   "source": []
  }
 ],
 "metadata": {
  "kernelspec": {
   "display_name": "Python 3",
   "language": "python",
   "name": "python3"
  },
  "language_info": {
   "codemirror_mode": {
    "name": "ipython",
    "version": 3
   },
   "file_extension": ".py",
   "mimetype": "text/x-python",
   "name": "python",
   "nbconvert_exporter": "python",
   "pygments_lexer": "ipython3",
   "version": "3.10.12"
  }
 },
 "nbformat": 4,
 "nbformat_minor": 2
}
